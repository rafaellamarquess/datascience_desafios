{
  "nbformat": 4,
  "nbformat_minor": 0,
  "metadata": {
    "colab": {
      "provenance": [],
      "collapsed_sections": [
        "PDr4iEg_fJhS"
      ]
    },
    "kernelspec": {
      "name": "python3",
      "display_name": "Python 3"
    },
    "language_info": {
      "name": "python"
    }
  },
  "cells": [
    {
      "cell_type": "markdown",
      "source": [
        "# **`DESAFIO OBRIGATÓRIO` ⭐**"
      ],
      "metadata": {
        "id": "PDr4iEg_fJhS"
      }
    },
    {
      "cell_type": "code",
      "source": [
        "import pandas as pd\n",
        "import numpy as np"
      ],
      "metadata": {
        "id": "oB4zqnVuJyP-"
      },
      "execution_count": null,
      "outputs": []
    },
    {
      "cell_type": "markdown",
      "source": [
        "**Etapa 1: Criar e salvar o arquivo `vendas.xlsx`**"
      ],
      "metadata": {
        "id": "-M4b-lhY5e7N"
      }
    },
    {
      "cell_type": "code",
      "execution_count": null,
      "metadata": {
        "id": "AfqJDU5q4fC5",
        "colab": {
          "base_uri": "https://localhost:8080/"
        },
        "outputId": "2c91a74f-9918-4771-f3ae-015068110270"
      },
      "outputs": [
        {
          "output_type": "stream",
          "name": "stdout",
          "text": [
            "Arquivo 'vendas.xlsx' criado com sucesso!\n"
          ]
        }
      ],
      "source": [
        "# Criar DataFrame com dados hipotéticos\n",
        "data = {\n",
        "    \"Região\": [\"Norte\", \"Norte\", \"Sul\", \"Sul\", \"Norte\"],\n",
        "    \"Mês\": [\"Jan\", \"Fev\", \"Jan\", \"Fev\", \"Mar\"],\n",
        "    \"Vendas\": [1500, np.nan, 2200, 1800, 2000],\n",
        "    \"Despesas\": [300, 250, np.nan, 400, 350]\n",
        "}\n",
        "\n",
        "df = pd.DataFrame(data)\n",
        "\n",
        "# Salvar em Excel\n",
        "df.to_excel(\"vendas.xlsx\", index=False, engine=\"openpyxl\")\n",
        "\n",
        "print(\"Arquivo 'vendas.xlsx' criado com sucesso!\")"
      ]
    },
    {
      "cell_type": "markdown",
      "source": [
        "**Etapa 2: Carregar e inspecionar os dados**\n"
      ],
      "metadata": {
        "id": "Iv6KQ2ya5VMl"
      }
    },
    {
      "cell_type": "code",
      "source": [
        "# Carregamento de Dados de arquivo externo\n",
        "df_excel = pd.read_excel(\"/content/vendas.xlsx\")\n",
        "\n",
        "# Inspecionar\n",
        "print(\"Dados carregados:\")\n",
        "print(df)\n",
        "print(\"\\n Informações gerais:\")\n",
        "print(df.info())"
      ],
      "metadata": {
        "id": "uQz6Bl-CRC0o",
        "colab": {
          "base_uri": "https://localhost:8080/"
        },
        "outputId": "b9dedb28-7f30-4e25-d487-bac6e9d8d69e"
      },
      "execution_count": null,
      "outputs": [
        {
          "output_type": "stream",
          "name": "stdout",
          "text": [
            "Dados carregados:\n",
            "  Região  Mês  Vendas  Despesas\n",
            "0  Norte  Jan  1500.0     300.0\n",
            "1  Norte  Fev     NaN     250.0\n",
            "2    Sul  Jan  2200.0       NaN\n",
            "3    Sul  Fev  1800.0     400.0\n",
            "4  Norte  Mar  2000.0     350.0\n",
            "\n",
            " Informações gerais:\n",
            "<class 'pandas.core.frame.DataFrame'>\n",
            "RangeIndex: 5 entries, 0 to 4\n",
            "Data columns (total 4 columns):\n",
            " #   Column    Non-Null Count  Dtype  \n",
            "---  ------    --------------  -----  \n",
            " 0   Região    5 non-null      object \n",
            " 1   Mês       5 non-null      object \n",
            " 2   Vendas    4 non-null      float64\n",
            " 3   Despesas  4 non-null      float64\n",
            "dtypes: float64(2), object(2)\n",
            "memory usage: 292.0+ bytes\n",
            "None\n"
          ]
        }
      ]
    },
    {
      "cell_type": "markdown",
      "source": [
        "**Etapa 3: Substituir Valores Ausentes**\n"
      ],
      "metadata": {
        "id": "eLj3p4g0MzfG"
      }
    },
    {
      "cell_type": "code",
      "source": [
        "# Substituir valores ausentes\n",
        "vendas_mediana = df['Vendas'].median()\n",
        "despesas_media = df['Despesas'].mean()\n",
        "\n",
        "df['Vendas'] = df['Vendas'].fillna(vendas_mediana)\n",
        "df['Despesas'] = df['Despesas'].fillna(despesas_media)\n",
        "\n",
        "print(\"\\n Planilha com os dados substituidos:\")\n",
        "print(df)"
      ],
      "metadata": {
        "id": "bnG5rYAZRkad",
        "colab": {
          "base_uri": "https://localhost:8080/"
        },
        "outputId": "a5128f10-36f4-4174-cba4-4083f0d4a5a9"
      },
      "execution_count": null,
      "outputs": [
        {
          "output_type": "stream",
          "name": "stdout",
          "text": [
            "\n",
            " Planilha com os dados substituidos:\n",
            "  Região  Mês  Vendas  Despesas\n",
            "0  Norte  Jan  1500.0     300.0\n",
            "1  Norte  Fev  1900.0     250.0\n",
            "2    Sul  Jan  2200.0     325.0\n",
            "3    Sul  Fev  1800.0     400.0\n",
            "4  Norte  Mar  2000.0     350.0\n"
          ]
        }
      ]
    },
    {
      "cell_type": "markdown",
      "source": [
        "**Etapa 4: Agrupar por Região e Mês e calcular soma e média**"
      ],
      "metadata": {
        "id": "2-kYt1SUNeCi"
      }
    },
    {
      "cell_type": "code",
      "source": [
        "#Agrupamento de dados por Região e Mês\n",
        "\n",
        "agrupado = df.groupby(['Região', 'Mês']).agg({\n",
        "    'Vendas': 'sum',\n",
        "    'Despesas': 'mean'\n",
        "}).reset_index()\n",
        "\n",
        "print(\"\\n Agrupamento por Região e Mês:\")\n",
        "print(agrupado)"
      ],
      "metadata": {
        "id": "ZnbaPuOTRwsF",
        "colab": {
          "base_uri": "https://localhost:8080/"
        },
        "outputId": "d41deb97-c0ea-4105-a1f8-85257c45e1e2"
      },
      "execution_count": null,
      "outputs": [
        {
          "output_type": "stream",
          "name": "stdout",
          "text": [
            "\n",
            " Agrupamento por Região e Mês:\n",
            "  Região  Mês  Vendas  Despesas\n",
            "0  Norte  Fev  1900.0     250.0\n",
            "1  Norte  Jan  1500.0     300.0\n",
            "2  Norte  Mar  2000.0     350.0\n",
            "3    Sul  Fev  1800.0     400.0\n",
            "4    Sul  Jan  2200.0     325.0\n"
          ]
        }
      ]
    },
    {
      "cell_type": "markdown",
      "source": [
        "**Etapa 5: Combinar colunas `Vendas` e `Despesas` horizontalmente**"
      ],
      "metadata": {
        "id": "tA0ZOobnc2nh"
      }
    },
    {
      "cell_type": "code",
      "source": [
        "# numpy hstack\n",
        "vendas_despesas_hstack = np.hstack((df[['Vendas']].values, df[['Despesas']].values))\n",
        "print(\"\\n HStack das colunas Vendas e Despesas:\")\n",
        "print(vendas_despesas_hstack)"
      ],
      "metadata": {
        "id": "TnMc3ilhR4Hk",
        "colab": {
          "base_uri": "https://localhost:8080/"
        },
        "outputId": "abd47790-7552-412d-f0a6-b184c149cc56"
      },
      "execution_count": null,
      "outputs": [
        {
          "output_type": "stream",
          "name": "stdout",
          "text": [
            "\n",
            " HStack das colunas Vendas e Despesas:\n",
            "[[1500.  300.]\n",
            " [1900.  250.]\n",
            " [2200.  325.]\n",
            " [1800.  400.]\n",
            " [2000.  350.]]\n"
          ]
        }
      ]
    },
    {
      "cell_type": "markdown",
      "source": [
        "Etapa 6: Sumário estatístico"
      ],
      "metadata": {
        "id": "TxW0CTQXdBGW"
      }
    },
    {
      "cell_type": "code",
      "source": [
        "#Gerar um sumário estatístico (média, mediana, desvio padrão) para todas as colunas numéricas.\n",
        "\n",
        "print(\"\\n Sumário estatístico:\")\n",
        "print(df.describe())\n",
        "\n",
        "print(\"\\n Estatísticas adicionais:\")\n",
        "print(f\"Média de Vendas: {df['Vendas'].mean():.2f}\")\n",
        "print(f\"Mediana de Vendas: {df['Vendas'].median():.2f}\")\n",
        "print(f\"Desvio padrão de Vendas: {df['Vendas'].std():.2f}\")\n",
        "\n",
        "print(f\"Média de Despesas: {df['Despesas'].mean():.2f}\")\n",
        "print(f\"Mediana de Despesas: {df['Despesas'].median():.2f}\")\n",
        "print(f\"Desvio padrão de Despesas: {df['Despesas'].std():.2f}\")"
      ],
      "metadata": {
        "colab": {
          "base_uri": "https://localhost:8080/"
        },
        "id": "17-h5s8fdAyW",
        "outputId": "d9b0f715-a346-461f-9474-33e03933ee4e"
      },
      "execution_count": null,
      "outputs": [
        {
          "output_type": "stream",
          "name": "stdout",
          "text": [
            "\n",
            " Sumário estatístico:\n",
            "            Vendas    Despesas\n",
            "count     5.000000    5.000000\n",
            "mean   1880.000000  325.000000\n",
            "std     258.843582   55.901699\n",
            "min    1500.000000  250.000000\n",
            "25%    1800.000000  300.000000\n",
            "50%    1900.000000  325.000000\n",
            "75%    2000.000000  350.000000\n",
            "max    2200.000000  400.000000\n",
            "\n",
            " Estatísticas adicionais:\n",
            "Média de Vendas: 1880.00\n",
            "Mediana de Vendas: 1900.00\n",
            "Desvio padrão de Vendas: 258.84\n",
            "Média de Despesas: 325.00\n",
            "Mediana de Despesas: 325.00\n",
            "Desvio padrão de Despesas: 55.90\n"
          ]
        }
      ]
    },
    {
      "cell_type": "markdown",
      "source": [
        "# **`DESAFIO ELETIVO `** ⭐"
      ],
      "metadata": {
        "id": "CILw0rLAfmd3"
      }
    },
    {
      "cell_type": "code",
      "source": [
        "# Importando as bibliotecas necessárias:\n",
        "# - numpy e pandas para análise de dados\n",
        "# - matplotlib e seaborn para gráficos\n",
        "# - scipy.stats para os testes estatísticos\n",
        "import numpy as np\n",
        "import pandas as pd\n",
        "import matplotlib.pyplot as plt\n",
        "import seaborn as sns\n",
        "from scipy import stats"
      ],
      "metadata": {
        "id": "5rLRK_wnf1w_"
      },
      "execution_count": null,
      "outputs": []
    },
    {
      "cell_type": "code",
      "source": [
        "# Criando dois grupos de dados com idades.\n",
        "grupo1 = np.array([12, 15, 18, 22, 22, 25, 28, 30, 35, 40])\n",
        "grupo2 = np.array([15, 18, 21, 25, 25, 28, 31, 33, 38, 43])\n",
        "\n",
        "# Função para calcular média, variância e intervalo interquartil (IQR)\n",
        "def resumo_estatistico(grupo):\n",
        "    media = np.mean(grupo)                # Calcula a média\n",
        "    variancia = np.var(grupo, ddof=1)     # Calcula a variância (ddof=1 para amostra)\n",
        "    iqr = stats.iqr(grupo)                # Calcula o IQR (diferença entre Q3 e Q1)\n",
        "    return media, variancia, iqr\n",
        "\n",
        "# Calculando as estatísticas para os dois grupos\n",
        "estatisticas_g1 = resumo_estatistico(grupo1)\n",
        "estatisticas_g2 = resumo_estatistico(grupo2)\n",
        "\n",
        "# Teste de normalidade de Shapiro-Wilk\n",
        "shapiro_g1 = stats.shapiro(grupo1)\n",
        "shapiro_g2 = stats.shapiro(grupo2)\n",
        "\n",
        "# Teste estatístico\n",
        "# Se os dois grupos forem normais (p > 0.05), usamos o teste t de Student\n",
        "# Caso contrário, é indicado usar o teste de Mann-Whitney (pq ele não depende da normalidade)\n",
        "if shapiro_g1.pvalue > 0.05 and shapiro_g2.pvalue > 0.05:\n",
        "    teste = \"t de Student\"\n",
        "    t_stat, p_val = stats.ttest_ind(grupo1, grupo2)  # Teste t para duas amostras independentes\n",
        "else:\n",
        "    teste = \"Mann-Whitney\"\n",
        "    t_stat, p_val = stats.mannwhitneyu(grupo1, grupo2, alternative='two-sided')  # Teste não paramétrico\n",
        "\n",
        "\n",
        "# Criando os gráficos\n",
        "plt.figure(figsize=(14, 6))  # Define o tamanho da figura\n",
        "\n",
        "# 1. Histograma para os dois grupos\n",
        "plt.subplot(1, 2, 1)  # O números indicam: 1 linha, 2 colunas, posição 1\n",
        "sns.histplot(grupo1, kde=True, color=\"skyblue\", label=\"Grupo 1\", binwidth=3)\n",
        "sns.histplot(grupo2, kde=True, color=\"salmon\", label=\"Grupo 2\", binwidth=3)\n",
        "plt.title(\"Distribuição das Idades\")\n",
        "plt.xlabel(\"Idade\")\n",
        "plt.ylabel(\"Frequência\")\n",
        "plt.legend()\n",
        "\n",
        "# 2. Boxplot comparando os dois grupos\n",
        "plt.subplot(1, 2, 2)\n",
        "dados_plot = pd.DataFrame({'Grupo 1': grupo1, 'Grupo 2': grupo2})\n",
        "sns.boxplot(data=dados_plot, palette=[\"skyblue\", \"salmon\"])\n",
        "plt.title(\"Boxplot Comparativo\")\n",
        "\n",
        "plt.tight_layout()  # Apenas para não sobrepor os gráficos\n",
        "plt.show()\n",
        "\n",
        "# Mostrando os resultados:\n",
        "# Mostrando estatísticas do Grupo 1: média, variância e intervalo interquartil (IQR)\n",
        "print(\"Estatísticas Grupo 1 (média, variância, IQR):\", estatisticas_g1)\n",
        "\n",
        "# Mostrando estatísticas do Grupo 2: média, variância e intervalo interquartil (IQR)\n",
        "print(\"Estatísticas Grupo 2 (média, variância, IQR):\", estatisticas_g2)\n",
        "\n",
        "# Resultado do teste de normalidade de Shapiro-Wilk para o Grupo 1\n",
        "print(\"Shapiro-Wilk Grupo 1 (W, p-valor):\", (shapiro_g1.statistic, shapiro_g1.pvalue))\n",
        "\n",
        "# Resultado do teste de normalidade de Shapiro-Wilk para o Grupo 2\n",
        "print(\"Shapiro-Wilk Grupo 2 (W, p-valor):\", (shapiro_g2.statistic, shapiro_g2.pvalue))\n",
        "\n",
        "# Qual teste foi utilizado: t de Student ou Mann-Whitney\n",
        "print(\"Teste estatístico usado:\", teste)\n",
        "\n",
        "# Resultado do teste de comparação entre os grupos (estatística e p-valor)\n",
        "print(\"Resultado do teste (estatística, p-valor):\", (t_stat, p_val))"
      ],
      "metadata": {
        "colab": {
          "base_uri": "https://localhost:8080/",
          "height": 416
        },
        "id": "Moxheri3gBoo",
        "outputId": "3a7ba86e-0737-42c2-ecfa-bfc0725bbc5b"
      },
      "execution_count": null,
      "outputs": [
        {
          "output_type": "display_data",
          "data": {
            "text/plain": [
              "<Figure size 1400x600 with 2 Axes>"
            ],
            "image/png": "[encoded data removed]"
          },
          "metadata": {}
        },
        {
          "output_type": "stream",
          "name": "stdout",
          "text": [
            "Estatísticas Grupo 1 (média, variância, IQR): (np.float64(24.7), np.float64(77.12222222222223), np.float64(10.5))\n",
            "Estatísticas Grupo 2 (média, variância, IQR): (np.float64(27.7), np.float64(77.12222222222223), np.float64(10.5))\n",
            "Shapiro-Wilk Grupo 1 (W, p-valor): (np.float64(0.9793704576296214), np.float64(0.9617099611024161))\n",
            "Shapiro-Wilk Grupo 2 (W, p-valor): (np.float64(0.9793704576296214), np.float64(0.9617099611024161))\n",
            "Teste estatístico usado: t de Student\n",
            "Resultado do teste (estatística, p-valor): (np.float64(-0.7638647856445084), np.float64(0.4548448024733782))\n"
          ]
        }
      ]
    }
  ]
}